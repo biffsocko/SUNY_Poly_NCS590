{
  "nbformat": 4,
  "nbformat_minor": 0,
  "metadata": {
    "colab": {
      "provenance": [],
      "authorship_tag": "ABX9TyMP23a7jCPI1xJFSuhPFdDN",
      "include_colab_link": true
    },
    "kernelspec": {
      "name": "python3",
      "display_name": "Python 3"
    },
    "language_info": {
      "name": "python"
    }
  },
  "cells": [
    {
      "cell_type": "markdown",
      "metadata": {
        "id": "view-in-github",
        "colab_type": "text"
      },
      "source": [
        "<a href=\"https://colab.research.google.com/github/biffsocko/SUNY_Poly_NCS590/blob/main/TomMurphy_Lab1.ipynb\" target=\"_parent\"><img src=\"https://colab.research.google.com/assets/colab-badge.svg\" alt=\"Open In Colab\"/></a>"
      ]
    },
    {
      "cell_type": "code",
      "execution_count": 1,
      "metadata": {
        "colab": {
          "base_uri": "https://localhost:8080/"
        },
        "id": "D4Jqshdl68d6",
        "outputId": "5dd84ad2-1b6b-4d23-c198-365c8bb0eff9"
      },
      "outputs": [
        {
          "output_type": "stream",
          "name": "stdout",
          "text": [
            "Hellow world\n"
          ]
        }
      ],
      "source": [
        "#1- Print statements\n",
        "\n",
        "print('Hellow world')"
      ]
    },
    {
      "cell_type": "code",
      "source": [
        "#2- Work with variable\n",
        "\n",
        "# to create/declare a variable just write the varibale name followed by equal sign followed by the value that you want to stote or assign to this variable\n",
        "#on example\n",
        "\n",
        "age=12\n",
        "\n",
        "\n",
        "# to print the value of this variable, we can write\n",
        "\n",
        "print(age)\n",
        "\n",
        "#or\n",
        "print(\"Your age is: \", age)"
      ],
      "metadata": {
        "colab": {
          "base_uri": "https://localhost:8080/"
        },
        "id": "qr-cgdLV7HDF",
        "outputId": "4dc355c1-6519-4e3c-bcb1-3fe1f53513dd"
      },
      "execution_count": 2,
      "outputs": [
        {
          "output_type": "stream",
          "name": "stdout",
          "text": [
            "12\n",
            "Your age is:  12\n"
          ]
        }
      ]
    },
    {
      "cell_type": "code",
      "source": [
        "#3- Edit the value of a variable\n",
        "\n",
        "#in the previous cell, we have assigned age to 20. Let's change it and print agaian\n",
        "\n",
        "age=age+2\n",
        "print(age)"
      ],
      "metadata": {
        "colab": {
          "base_uri": "https://localhost:8080/"
        },
        "id": "Yihx-Mh77M1y",
        "outputId": "6761e025-734f-4fc6-f5c7-cc073c2dae5d"
      },
      "execution_count": 3,
      "outputs": [
        {
          "output_type": "stream",
          "name": "stdout",
          "text": [
            "14\n"
          ]
        }
      ]
    },
    {
      "cell_type": "code",
      "source": [
        "#4-Data type\n",
        "\n",
        "# a variable can hold any type of data. it can hold integers, float numbers, booleans, strings, etc.\n",
        "# for example, we can have another variable here called name\n",
        "name=\"john\"\n",
        "age= 2\n",
        "attendance=True\n",
        "\n",
        "\n",
        "#type()\n",
        "type(name)"
      ],
      "metadata": {
        "colab": {
          "base_uri": "https://localhost:8080/"
        },
        "id": "M8P0zT3T7ZAk",
        "outputId": "480a7c00-33dc-40d8-a908-ab46f029974b"
      },
      "execution_count": 4,
      "outputs": [
        {
          "output_type": "execute_result",
          "data": {
            "text/plain": [
              "str"
            ]
          },
          "metadata": {},
          "execution_count": 4
        }
      ]
    },
    {
      "cell_type": "code",
      "source": [
        "#5- Data type conversion\n",
        "\n",
        "#there are 4 built-in functions that can be used for data type conversion\n",
        "\n",
        "# int()\n",
        "# float()\n",
        "# bool()\n",
        "# str()\n",
        "\n",
        "x=\"5\"\n",
        "y=6\n",
        "\n",
        "#x+y\n",
        "\n",
        "print(int(x)+y)\n",
        "print(x+str(y))\n",
        "\n",
        "print(\"mahmoud \"+\"Badr\")"
      ],
      "metadata": {
        "colab": {
          "base_uri": "https://localhost:8080/"
        },
        "id": "Almdintt7jr1",
        "outputId": "a669d713-2cb6-44ab-bef2-32412990fbf6"
      },
      "execution_count": 5,
      "outputs": [
        {
          "output_type": "stream",
          "name": "stdout",
          "text": [
            "11\n",
            "56\n",
            "mahmoud Badr\n"
          ]
        }
      ]
    },
    {
      "cell_type": "code",
      "source": [
        "#6- Take an input from user\n",
        "\n",
        "imput_number=input(\" enter a number and I will give the double of this number\")\n",
        "number=int(imput_number)\n",
        "number+=number\n",
        "\n",
        "print(number)"
      ],
      "metadata": {
        "colab": {
          "base_uri": "https://localhost:8080/"
        },
        "id": "xEANCZtT8el3",
        "outputId": "9d8e8201-f86a-4277-f808-9db1422b8446"
      },
      "execution_count": 6,
      "outputs": [
        {
          "output_type": "stream",
          "name": "stdout",
          "text": [
            " enter a number and I will give the double of this number5\n",
            "10\n"
          ]
        }
      ]
    },
    {
      "cell_type": "code",
      "source": [
        "#7- Mathematical/Arithmetic operations\n",
        "\n",
        "#declare two variable\n",
        "x=5\n",
        "y=3\n",
        "\n",
        "#addition\n",
        "z=x+y\n",
        "print(\"the result of addition is: \", z)\n",
        "\n",
        "#subtraction\n",
        "z=x-y\n",
        "print(\"the result of subtraction is: \", z)\n",
        "\n",
        "#multiplication\n",
        "z=x*y\n",
        "print(\"the result of multiplication is: \", z)\n",
        "\n",
        "#division\n",
        "z=x/y\n",
        "print(\"the result of division is: \", z)\n",
        "\n",
        "#modulus\n",
        "z=x%y\n",
        "print(\"the result of modulus is: \", z)\n",
        "\n",
        "#exponentiation\n",
        "z=x**y\n",
        "print(\"the result of exponentiation is: \", z)\n"
      ],
      "metadata": {
        "colab": {
          "base_uri": "https://localhost:8080/"
        },
        "id": "e_a9I-wm82RZ",
        "outputId": "68321ff8-6b89-4d39-b610-141d31ede6f3"
      },
      "execution_count": 7,
      "outputs": [
        {
          "output_type": "stream",
          "name": "stdout",
          "text": [
            "the result of addition is:  8\n",
            "the result of subtraction is:  2\n",
            "the result of multiplication is:  15\n",
            "the result of division is:  1.6666666666666667\n",
            "the result of modulus is:  2\n",
            "the result of exponentiation is:  125\n"
          ]
        }
      ]
    },
    {
      "cell_type": "code",
      "source": [
        "#8- Comparison operations\n",
        "\n",
        "#they can be used to compare between two variables\n",
        "# the result from the comparison opeartion or the boolean expression is a boolean value. it can be either True or False\n",
        "\n",
        "print(x>y)\n",
        "print(x>=y)\n",
        "print(x<y)\n",
        "print(x<=y)\n",
        "print(x==y)\n",
        "print(x!=y)"
      ],
      "metadata": {
        "colab": {
          "base_uri": "https://localhost:8080/"
        },
        "id": "-Bab6NwJ9L1_",
        "outputId": "5cafb9b8-f46b-4508-f5a7-12dcbef1c095"
      },
      "execution_count": 8,
      "outputs": [
        {
          "output_type": "stream",
          "name": "stdout",
          "text": [
            "True\n",
            "True\n",
            "False\n",
            "False\n",
            "False\n",
            "True\n"
          ]
        }
      ]
    },
    {
      "cell_type": "code",
      "source": [
        "#9-Logical opeartions\n",
        "\n",
        "# examples: and, or, not, xor, etc.\n",
        "# logical expression can be written using boolean expressions and logical operators\n",
        "# the result from the logical expression is a boolean value.\n",
        "# example\n",
        "#declare 3 variables\n",
        "\n",
        "x, y, z= 2, 3, 4\n",
        "\n",
        "print(x<y and y<z)\n",
        "print(x<y or y>7)\n",
        "print(not z>y)"
      ],
      "metadata": {
        "colab": {
          "base_uri": "https://localhost:8080/"
        },
        "id": "YcUSRkAe9Urw",
        "outputId": "67529f71-d32d-463c-e8fa-db795483a4a0"
      },
      "execution_count": 9,
      "outputs": [
        {
          "output_type": "stream",
          "name": "stdout",
          "text": [
            "True\n",
            "True\n",
            "False\n"
          ]
        }
      ]
    },
    {
      "cell_type": "code",
      "source": [
        "# 10-if statement\n",
        "\n",
        "#it can be used to make decisions in our program\n",
        "#let's say that you will pass the exam if you got more than or eual to 60 degrees\n",
        "# let's define a variable called your degree\n",
        "\n",
        "your_degree=50\n",
        "\n",
        "#let's see if you will pass the exam or not\n",
        "\n",
        "if your_degree>=60:\n",
        "  print(\"you have passed the exam\")\n",
        "  print(\"congratulation\")\n",
        "\n",
        "\n",
        "\n",
        "\n",
        "# to make the deciaion, i can write if statement. it consits of keyword if followd by comparison/logical expression followd by colon.\n",
        "#then, i can write one or multiple statements to execute if the condition is true\n",
        "# all the statements that have the same indentation are belonging to the body/block of the if statemet, i.e., they will be executed if the condition is true\n",
        "\n",
        "# we can have if-else version as follows\n"
      ],
      "metadata": {
        "id": "Epolw6iNA-cj"
      },
      "execution_count": 14,
      "outputs": []
    },
    {
      "cell_type": "code",
      "source": [
        "#11- we can have the if, else-if,....., else version as follows\n",
        "\n",
        "your_degree=52\n",
        "\n",
        "if your_degree>=60:\n",
        "  print(\"you have passed the exam\")\n",
        "  print(\"congratulation\")\n",
        "else:\n",
        "  print(\" you failed the exam\")\n"
      ],
      "metadata": {
        "colab": {
          "base_uri": "https://localhost:8080/"
        },
        "id": "64Jx_dYLBTUo",
        "outputId": "f1d998ff-294e-4f74-8c79-372635cd228e"
      },
      "execution_count": 15,
      "outputs": [
        {
          "output_type": "stream",
          "name": "stdout",
          "text": [
            " you failed the exam\n"
          ]
        }
      ]
    },
    {
      "cell_type": "code",
      "source": [
        "#In case, we want to test multiple conditions\n",
        "\n",
        "your_degree=52\n",
        "\n",
        "if your_degree>=90:\n",
        "  print(\"your grade is A\")\n",
        "elif your_degree>=80:\n",
        "  print(\"your grade is B\")\n",
        "elif your_degree>=70:\n",
        "  print(\"your grade is C\")\n",
        "elif your_degree>=60:\n",
        "  print(\"your grade is D\")\n",
        "else:\n",
        "  print(\"you failed\")\n"
      ],
      "metadata": {
        "colab": {
          "base_uri": "https://localhost:8080/"
        },
        "id": "TNj49tqpBaFC",
        "outputId": "2254c70a-6ad8-4ca9-cd01-07763bbd5cb9"
      },
      "execution_count": 16,
      "outputs": [
        {
          "output_type": "stream",
          "name": "stdout",
          "text": [
            "you failed\n"
          ]
        }
      ]
    },
    {
      "cell_type": "code",
      "source": [
        "#Loops\n",
        "#loops can be used if we want to execute a block of code multiple times\n",
        "#there are 2 types of loops: while and for loops"
      ],
      "metadata": {
        "id": "umByJ8wdBhVJ"
      },
      "execution_count": null,
      "outputs": []
    },
    {
      "cell_type": "code",
      "source": [
        "#12- while loop: execute a block of code as long as a condition is satisfied\n",
        "\n",
        "#for example suppose that we want to print numbers from 1 to 5\n",
        "\n",
        "\n",
        "counter=1\n",
        "while counter<=5:\n",
        "  print(counter)\n",
        "  counter=counter+1"
      ],
      "metadata": {
        "colab": {
          "base_uri": "https://localhost:8080/"
        },
        "id": "uQK7A47OBkXt",
        "outputId": "77c8cf88-4e69-43ff-e245-f6b9226d2c27"
      },
      "execution_count": 18,
      "outputs": [
        {
          "output_type": "stream",
          "name": "stdout",
          "text": [
            "1\n",
            "2\n",
            "3\n",
            "4\n",
            "5\n"
          ]
        }
      ]
    },
    {
      "cell_type": "code",
      "source": [],
      "metadata": {
        "id": "a7iiNMqQCEXk"
      },
      "execution_count": null,
      "outputs": []
    },
    {
      "cell_type": "code",
      "source": [
        "#13- for loop: execute a block of code for a predetermined number of times\n",
        "\n",
        "#for example suppose that we want to print numbers from 1 to 5\n",
        "#range() is a built-in function that returns a range object that consists of sequence of numbers\n",
        "\n",
        "for i in range(5):\n",
        "  print(i+1)\n"
      ],
      "metadata": {
        "colab": {
          "base_uri": "https://localhost:8080/"
        },
        "id": "nCrjkuFnBwj6",
        "outputId": "493b8572-abf1-4116-e806-8844c3e3b59a"
      },
      "execution_count": 19,
      "outputs": [
        {
          "output_type": "stream",
          "name": "stdout",
          "text": [
            "1\n",
            "2\n",
            "3\n",
            "4\n",
            "5\n"
          ]
        }
      ]
    },
    {
      "cell_type": "code",
      "source": [
        "#complex data types\n",
        "#besides the primitive/basic data types, Python supports complex data types such as lists, dictionaries, etc.\n"
      ],
      "metadata": {
        "id": "XuD-ioFBCGV7"
      },
      "execution_count": null,
      "outputs": []
    },
    {
      "cell_type": "code",
      "source": [
        "#14- Lists\n",
        "#list data type is simply a list of objects of any data type\n",
        "#for example, we can have list of number, strings, etc.\n",
        "\n",
        "numbers=[1, 2, 3, 5]\n",
        "colors=[\"red\", \"green\", \"blue\"]\n",
        "\n",
        "#we can print the whole list variable or print certain element\n",
        "print(numbers)\n",
        "print(numbers[0])\n",
        "print(numbers[1])\n",
        "print(numbers[-2])\n",
        "\n",
        "# #we can use negative index\n",
        "# print(numbers[-1]) #returns the last element in the list\n",
        "# print(numbers[-2]) #returns the secod element in the list from the end\n"
      ],
      "metadata": {
        "colab": {
          "base_uri": "https://localhost:8080/"
        },
        "id": "0VwHMHzACKQ_",
        "outputId": "2ce95426-3b6c-4bcb-9f5c-ede84eb0f651"
      },
      "execution_count": 20,
      "outputs": [
        {
          "output_type": "stream",
          "name": "stdout",
          "text": [
            "[1, 2, 3, 5]\n",
            "1\n",
            "2\n",
            "3\n"
          ]
        }
      ]
    },
    {
      "cell_type": "code",
      "source": [
        "#15- we can change the value of an element/object in the list\n",
        "#numbers=[1, 2, 3, 5]\n",
        "\n",
        "numbers[0]=10\n",
        "print(numbers)"
      ],
      "metadata": {
        "colab": {
          "base_uri": "https://localhost:8080/"
        },
        "id": "vrlw8TzmCp3f",
        "outputId": "ab0b109d-dc31-4ea7-f2f2-d0377082186a"
      },
      "execution_count": 21,
      "outputs": [
        {
          "output_type": "stream",
          "name": "stdout",
          "text": [
            "[10, 2, 3, 5]\n"
          ]
        }
      ]
    },
    {
      "cell_type": "code",
      "source": [
        "# 16- we can print ceratin range of elemets\n",
        "numbers=[1, 2, 3, 5]\n",
        "print(numbers[1:3])"
      ],
      "metadata": {
        "colab": {
          "base_uri": "https://localhost:8080/"
        },
        "id": "NgRDW5mGCvgf",
        "outputId": "9e5a8f5c-d489-4e44-e77f-b1ec827db6ce"
      },
      "execution_count": 22,
      "outputs": [
        {
          "output_type": "stream",
          "name": "stdout",
          "text": [
            "[2, 3]\n"
          ]
        }
      ]
    },
    {
      "cell_type": "code",
      "source": [
        "#17- a list is an object, and has some built-in methods/functions\n",
        "#examples\n",
        "\n",
        "#add element to the end of the list\n",
        "numbers=[1, 2, 3, 5]\n",
        "numbers.append(100)\n",
        "print(numbers)\n"
      ],
      "metadata": {
        "colab": {
          "base_uri": "https://localhost:8080/"
        },
        "id": "ftABHBtbC-T1",
        "outputId": "e7104058-3045-4c74-c9f6-97e6b570dafb"
      },
      "execution_count": 23,
      "outputs": [
        {
          "output_type": "stream",
          "name": "stdout",
          "text": [
            "[1, 2, 3, 5, 100]\n"
          ]
        }
      ]
    },
    {
      "cell_type": "code",
      "source": [
        "#18-add element to any place in the list\n",
        "numbers=[1, 2, 3, 5]\n",
        "numbers.insert(0, -2)\n",
        "print(numbers)"
      ],
      "metadata": {
        "colab": {
          "base_uri": "https://localhost:8080/"
        },
        "id": "79pKHvtny0_R",
        "outputId": "4b403a09-6591-4b65-b5d3-da336a3311c9"
      },
      "execution_count": 1,
      "outputs": [
        {
          "output_type": "stream",
          "name": "stdout",
          "text": [
            "[-2, 1, 2, 3, 5]\n"
          ]
        }
      ]
    },
    {
      "cell_type": "code",
      "source": [
        "#19-delete element from the list\n",
        "numbers=[1, 2, 3, 5]\n",
        "numbers.remove(3)\n",
        "print(numbers)"
      ],
      "metadata": {
        "colab": {
          "base_uri": "https://localhost:8080/"
        },
        "id": "-kUxPN3uy8ec",
        "outputId": "21b6b0c0-8efc-4963-ba41-9f1e18a58384"
      },
      "execution_count": 2,
      "outputs": [
        {
          "output_type": "stream",
          "name": "stdout",
          "text": [
            "[1, 2, 5]\n"
          ]
        }
      ]
    },
    {
      "cell_type": "code",
      "source": [
        "#20-you can search for an element in a list\n",
        "numbers=[1, 2, 3, 5]\n",
        "print(1 in numbers)\n",
        "print(200 in numbers)"
      ],
      "metadata": {
        "colab": {
          "base_uri": "https://localhost:8080/"
        },
        "id": "NvkWwA9ezGAA",
        "outputId": "16ee2bee-e61f-4b1e-8ce5-c87368c0e770"
      },
      "execution_count": 3,
      "outputs": [
        {
          "output_type": "stream",
          "name": "stdout",
          "text": [
            "True\n",
            "False\n"
          ]
        }
      ]
    },
    {
      "cell_type": "code",
      "source": [
        "#21- you can return the number of elements in a list\n",
        "numbers=[1, 2, 3, 5]\n",
        "print(len(numbers))\n"
      ],
      "metadata": {
        "colab": {
          "base_uri": "https://localhost:8080/"
        },
        "id": "dE9mTL7xzM8H",
        "outputId": "a670cf38-7f54-4a60-96c9-2ed5e95bad39"
      },
      "execution_count": 4,
      "outputs": [
        {
          "output_type": "stream",
          "name": "stdout",
          "text": [
            "4\n"
          ]
        }
      ]
    },
    {
      "cell_type": "code",
      "source": [
        "#after introducing lists, let's return to for loops again\n",
        "#for loop can be used to iterate over a list of objects and execute a block code of code for each object in the list\n",
        "\n",
        "numbers=[1, 2, 3, 5]\n",
        "for i in numbers:\n",
        "  print(i)\n",
        "\n",
        "# numbers=[\"red\", \"blue\", \"green\", \"yello\"]\n",
        "# for i in numbers:\n",
        "#   print(i)\n"
      ],
      "metadata": {
        "colab": {
          "base_uri": "https://localhost:8080/"
        },
        "id": "bqlOu3KrzUjp",
        "outputId": "04a46d24-1fe4-439b-a1c8-fb9ba28c58ea"
      },
      "execution_count": 5,
      "outputs": [
        {
          "output_type": "stream",
          "name": "stdout",
          "text": [
            "1\n",
            "2\n",
            "3\n",
            "5\n"
          ]
        }
      ]
    },
    {
      "cell_type": "code",
      "source": [
        "#note that we can implement the same code of the previous cell but using while loop\n",
        "\n",
        "i=0\n",
        "numbers=[1, 2, 3, 5]\n",
        "while i<len(numbers):\n",
        "  print(numbers[i])\n",
        "  i+=1"
      ],
      "metadata": {
        "colab": {
          "base_uri": "https://localhost:8080/"
        },
        "id": "Z-OG7RBSzahH",
        "outputId": "6d947970-1d86-4df2-9342-d9ae4af8503d"
      },
      "execution_count": 6,
      "outputs": [
        {
          "output_type": "stream",
          "name": "stdout",
          "text": [
            "1\n",
            "2\n",
            "3\n",
            "5\n"
          ]
        }
      ]
    },
    {
      "cell_type": "code",
      "source": [
        "# for loop examples\n",
        "for i in range(10):\n",
        "  print(i)\n",
        "print(\"---------------------------------------\")\n",
        "for i in range(2,10):\n",
        "  print(i)\n",
        "print(\"---------------------------------------\")\n",
        "for i in range(0, 10, 2):\n",
        "  print(i)"
      ],
      "metadata": {
        "colab": {
          "base_uri": "https://localhost:8080/"
        },
        "id": "JmLS-rCtzgS4",
        "outputId": "7ab0b01c-0562-47eb-878c-3d7dba33d1e1"
      },
      "execution_count": 8,
      "outputs": [
        {
          "output_type": "stream",
          "name": "stdout",
          "text": [
            "0\n",
            "1\n",
            "2\n",
            "3\n",
            "4\n",
            "5\n",
            "6\n",
            "7\n",
            "8\n",
            "9\n",
            "---------------------------------------\n",
            "2\n",
            "3\n",
            "4\n",
            "5\n",
            "6\n",
            "7\n",
            "8\n",
            "9\n",
            "---------------------------------------\n",
            "0\n",
            "2\n",
            "4\n",
            "6\n",
            "8\n"
          ]
        }
      ]
    },
    {
      "cell_type": "code",
      "source": [
        "#22- Functions\n",
        "\n",
        "# to define function in Python, we wuse the keyword def folloed by the function name followed by pranthesis containing group of parameters followd by colon\n",
        "#then, we can write the body of the functions. we use indentation to specify the body of the function\n",
        "#let's define a function to return the sum of two numbers. The final statement can be return statement if the function returns some output\n",
        "\n",
        "def summation(num1,num2):\n",
        "  sum=num1+num2\n",
        "  return sum\n"
      ],
      "metadata": {
        "id": "9JA2S9c5zsJr"
      },
      "execution_count": 10,
      "outputs": []
    },
    {
      "cell_type": "code",
      "source": [
        "#to call a function, use the function name and pass values to the parameters\n",
        "\n",
        "print(summation(2,3))"
      ],
      "metadata": {
        "colab": {
          "base_uri": "https://localhost:8080/"
        },
        "id": "s27cGiISzyPV",
        "outputId": "370922ee-c55b-4674-caaf-c4bb90bb6460"
      },
      "execution_count": 11,
      "outputs": [
        {
          "output_type": "stream",
          "name": "stdout",
          "text": [
            "5\n"
          ]
        }
      ]
    },
    {
      "cell_type": "code",
      "source": [
        "# we can return multiple outputs from a function\n",
        "def calculas(num1,num2):\n",
        "  sum=num1+num2\n",
        "  differnce=num1-num2\n",
        "  return sum, differnce\n",
        "\n",
        "print(calculas(2,3))\n",
        "\n",
        "# in this case we return tuple, which is another data type in python. Like list, it is a sequense of objects. Unlike list, it defined using pranthesis and cannot be modified after creation"
      ],
      "metadata": {
        "colab": {
          "base_uri": "https://localhost:8080/"
        },
        "id": "euqodaag0Baa",
        "outputId": "c1f9a325-42a9-4d66-a35c-d1d23554dd20"
      },
      "execution_count": 12,
      "outputs": [
        {
          "output_type": "stream",
          "name": "stdout",
          "text": [
            "(5, -1)\n"
          ]
        }
      ]
    }
  ]
}