{
  "nbformat": 4,
  "nbformat_minor": 0,
  "metadata": {
    "colab": {
      "provenance": [],
      "authorship_tag": "ABX9TyN+4eONwgObfmYzAz3xX0n0",
      "include_colab_link": true
    },
    "kernelspec": {
      "name": "python3",
      "display_name": "Python 3"
    },
    "language_info": {
      "name": "python"
    }
  },
  "cells": [
    {
      "cell_type": "markdown",
      "metadata": {
        "id": "view-in-github",
        "colab_type": "text"
      },
      "source": [
        "<a href=\"https://colab.research.google.com/github/biffsocko/SUNY_Poly_NCS590/blob/main/TRMurphy_lab5.ipynb\" target=\"_parent\"><img src=\"https://colab.research.google.com/assets/colab-badge.svg\" alt=\"Open In Colab\"/></a>"
      ]
    },
    {
      "cell_type": "markdown",
      "source": [
        "<h1>\n",
        "Tom Murphy</h1>\n",
        "NCS590 /  Machine Learning<br>\n",
        "3/7/2023"
      ],
      "metadata": {
        "id": "2fpli5Jz1xkA"
      }
    },
    {
      "cell_type": "markdown",
      "source": [
        "**Import all the modules and data**<br>\n",
        "note: importing both Decision Tree and Nearest Neighbor clasifiers in thie section as well"
      ],
      "metadata": {
        "id": "jxJAnhnJ2GdO"
      }
    },
    {
      "cell_type": "code",
      "execution_count": 68,
      "metadata": {
        "id": "DAwGx5pYMkJN"
      },
      "outputs": [],
      "source": [
        "##########################################\n",
        "# Import all the things\n",
        "##########################################\n",
        "import matplotlib.pyplot as plt\n",
        "from sklearn import metrics\n",
        "\n",
        "import pandas as pd\n",
        "from sklearn.model_selection import train_test_split\n",
        "\n",
        "#import the logistic regression class\n",
        "from sklearn.linear_model import LogisticRegression\n",
        "\n",
        "#import the Decision Tree class\n",
        "from sklearn import tree\n",
        "\n",
        "#import the NearestNeighbors class\n",
        "from sklearn.neighbors import KNeighborsClassifier\n",
        "\n",
        "#import some classification evaluation metrics\n",
        "from sklearn.metrics import confusion_matrix, accuracy_score, recall_score, precision_score, f1_score\n",
        "\n",
        "# print test messages when set greater than 0\n",
        "DEBUG=0   \n",
        "\n",
        "\n",
        "##########################################\n",
        "# Import the data\n",
        "##########################################\n",
        "df = pd.read_csv('/content/payment_fraud.csv')\n",
        "df = pd.get_dummies(df, columns=['paymentMethod'])\n",
        "\n",
        "if(DEBUG > 0 ):\n",
        "    # see what the data look like\n",
        "    df.sample(10)\n"
      ]
    },
    {
      "cell_type": "markdown",
      "source": [
        "<h1>Decision Tree</h1>"
      ],
      "metadata": {
        "id": "OhjuVjXh2gwj"
      }
    },
    {
      "cell_type": "code",
      "source": [
        "print(\"==================================\")\n",
        "print(\"Decision Tree\")\n",
        "print(\"==================================\")\n",
        "\n",
        "# split the dataset into train and test sets\n",
        "\n",
        "X_train, X_test, y_train, y_test = train_test_split(\n",
        "    df.drop('label', axis=1), df['label'], test_size=0.33, random_state=42)\n",
        "\n",
        "clf = tree.DecisionTreeClassifier() \n",
        "clf.fit(X_train, y_train)\n",
        "y_pred = clf.predict(X_test)\n",
        "print(confusion_matrix(y_test, y_pred))\n",
        "print(\"\\n\")\n",
        "print(\"Accuracy:\", accuracy_score(y_pred, y_test)*100)\n",
        "print(\"Recall:\", recall_score(y_pred, y_test)*100)\n",
        "print(\"Precision:\", precision_score(y_pred, y_test)*100)\n",
        "print(\"F1 Score:\", f1_score(y_pred, y_test)*100)"
      ],
      "metadata": {
        "colab": {
          "base_uri": "https://localhost:8080/"
        },
        "id": "LL-R08LG1J-7",
        "outputId": "1c61bfa8-5289-4dc8-ec56-3f0d2af4b444"
      },
      "execution_count": 69,
      "outputs": [
        {
          "output_type": "stream",
          "name": "stdout",
          "text": [
            "==================================\n",
            "Decision Tree\n",
            "==================================\n",
            "[[12753     0]\n",
            " [    0   190]]\n",
            "\n",
            "\n",
            "Accuracy: 100.0\n",
            "Recall: 100.0\n",
            "Precision: 100.0\n",
            "F1 Score: 100.0\n"
          ]
        }
      ]
    },
    {
      "cell_type": "code",
      "source": [
        "fpr, tpr, thresholds = metrics.roc_curve(y_test, y_pred)\n",
        "roc_auc = metrics.auc(fpr, tpr)\n",
        "\n",
        "display = metrics.RocCurveDisplay(fpr=fpr, tpr=tpr, roc_auc=roc_auc,\n",
        "                                   estimator_name='Decision Tree')\n",
        "display.plot()\n",
        "plt.show()"
      ],
      "metadata": {
        "id": "NM7wpZ4sSUUm",
        "outputId": "00b26a27-c52f-4790-fa11-7e37939fc066",
        "colab": {
          "base_uri": "https://localhost:8080/",
          "height": 279
        }
      },
      "execution_count": 71,
      "outputs": [
        {
          "output_type": "display_data",
          "data": {
            "text/plain": [
              "<Figure size 432x288 with 1 Axes>"
            ],
            "image/png": "[encoded data removed]"
          },
          "metadata": {
            "needs_background": "light"
          }
        }
      ]
    },
    {
      "cell_type": "markdown",
      "source": [
        "<h1>Nearest Neighbor</h1>\n"
      ],
      "metadata": {
        "id": "Ez60NxAI2rmw"
      }
    },
    {
      "cell_type": "code",
      "source": [
        "#  split the dataset into train and test sets\n",
        "\n",
        "print(\"==================================\")\n",
        "print(\"Nearest Neighbor\")\n",
        "print(\"==================================\")\n",
        "X_train, X_test, y_train, y_test = train_test_split(\n",
        "    df.drop('label', axis=1), df['label'], test_size=0.33, random_state=42)\n",
        "\n",
        "\n",
        "neigh = KNeighborsClassifier(n_neighbors=7)\n",
        "neigh.fit(X_train, y_train)\n",
        "y_pred = neigh.predict(X_test)\n",
        "print(confusion_matrix(y_test, y_pred))\n",
        "print(\"\\n\")\n",
        "print(\"Accuracy:\", accuracy_score(y_pred, y_test)*100)\n",
        "print(\"Recall:\", recall_score(y_pred, y_test)*100)\n",
        "print(\"Precision:\", precision_score(y_pred, y_test)*100)\n",
        "print(\"F1 Score:\", f1_score(y_pred, y_test)*100)"
      ],
      "metadata": {
        "colab": {
          "base_uri": "https://localhost:8080/"
        },
        "id": "Y0Dvyg3FwqlC",
        "outputId": "3638a179-21bd-4bb3-f388-988b16b20213"
      },
      "execution_count": 66,
      "outputs": [
        {
          "output_type": "stream",
          "name": "stdout",
          "text": [
            "==================================\n",
            "Nearest Neighbor\n",
            "==================================\n",
            "[[12753     0]\n",
            " [    0   190]]\n",
            "\n",
            "\n",
            "Accuracy: 100.0\n",
            "Recall: 100.0\n",
            "Precision: 100.0\n",
            "F1 Score: 100.0\n"
          ]
        }
      ]
    },
    {
      "cell_type": "code",
      "source": [
        "fpr, tpr, thresholds = metrics.roc_curve(y_test, y_pred)\n",
        "roc_auc = metrics.auc(fpr, tpr)\n",
        "\n",
        "display = metrics.RocCurveDisplay(fpr=fpr, tpr=tpr, roc_auc=roc_auc,\n",
        "                                   estimator_name='Nearest Neighbor')\n",
        "display.plot()\n",
        "plt.show()"
      ],
      "metadata": {
        "colab": {
          "base_uri": "https://localhost:8080/",
          "height": 279
        },
        "id": "oDdsEsB70Zwb",
        "outputId": "fb8ceb9f-9ff6-48d3-f1c0-029c0de54544"
      },
      "execution_count": 73,
      "outputs": [
        {
          "output_type": "display_data",
          "data": {
            "text/plain": [
              "<Figure size 432x288 with 1 Axes>"
            ],
            "image/png": "[encoded data removed]"
          },
          "metadata": {
            "needs_background": "light"
          }
        }
      ]
    }
  ]
}