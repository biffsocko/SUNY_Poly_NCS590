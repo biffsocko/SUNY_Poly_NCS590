{
  "nbformat": 4,
  "nbformat_minor": 0,
  "metadata": {
    "colab": {
      "provenance": [],
      "authorship_tag": "ABX9TyNqV5sEjCp1sgeK5dJnBSlj",
      "include_colab_link": true
    },
    "kernelspec": {
      "name": "python3",
      "display_name": "Python 3"
    },
    "language_info": {
      "name": "python"
    }
  },
  "cells": [
    {
      "cell_type": "markdown",
      "metadata": {
        "id": "view-in-github",
        "colab_type": "text"
      },
      "source": [
        "<a href=\"https://colab.research.google.com/github/biffsocko/SUNY_Poly_NCS590/blob/main/lab3.ipynb\" target=\"_parent\"><img src=\"https://colab.research.google.com/assets/colab-badge.svg\" alt=\"Open In Colab\"/></a>"
      ]
    },
    {
      "cell_type": "code",
      "source": [
        "#!/usr/bin/python3"
      ],
      "metadata": {
        "id": "8hXB81w3QGZ1"
      },
      "execution_count": null,
      "outputs": []
    },
    {
      "cell_type": "markdown",
      "source": [
        "Tom Murphy\n",
        "NCS590 \n",
        "Lab 3\n",
        "Test save"
      ],
      "metadata": {
        "id": "QnmKlm_QPRwd"
      }
    },
    {
      "cell_type": "code",
      "execution_count": 20,
      "metadata": {
        "id": "QsnRWHxJMbn3"
      },
      "outputs": [],
      "source": [
        "import numpy as np\n",
        "import pandas as pd"
      ]
    },
    {
      "cell_type": "code",
      "source": [
        "# To create 1-D array\n",
        "#1- np.arange(start, end+1) #returns a 1-D numpy array object\n",
        "\n",
        "print(np.arange(0,5))\n",
        "\n",
        "print(np.arange(2,10))"
      ],
      "metadata": {
        "colab": {
          "base_uri": "https://localhost:8080/"
        },
        "id": "CIFjzd7pMiNI",
        "outputId": "6dd4421e-52c6-4a06-a7a0-b3651d5794b1"
      },
      "execution_count": 3,
      "outputs": [
        {
          "output_type": "stream",
          "name": "stdout",
          "text": [
            "[0 1 2 3 4]\n",
            "[2 3 4 5 6 7 8 9]\n"
          ]
        }
      ]
    },
    {
      "cell_type": "code",
      "source": [
        "# To create 1-D array\n",
        "#2- np.array( [list] or (tuple) ) #returns a 1-D numpy array object\n",
        "\n",
        "print(np.array([1,2,3,4])) # converts a list to Numpy array\n",
        "\n",
        "print(np.array((1,2,3,4))) # converts a tuple to Numpy array"
      ],
      "metadata": {
        "colab": {
          "base_uri": "https://localhost:8080/"
        },
        "id": "LNTd7wMrM44_",
        "outputId": "77f945cd-0dae-44a1-ff94-41a900671b7c"
      },
      "execution_count": 4,
      "outputs": [
        {
          "output_type": "stream",
          "name": "stdout",
          "text": [
            "[1 2 3 4]\n",
            "[1 2 3 4]\n"
          ]
        }
      ]
    },
    {
      "cell_type": "code",
      "source": [
        "print(type([1,2,3,4]))\n",
        "\n",
        "print(type(np.array([1,2,3,])))\n",
        "\n",
        "print(type((1,2,3,4)))\n",
        "\n",
        "print(type(np.array((1,2,3,4))))"
      ],
      "metadata": {
        "colab": {
          "base_uri": "https://localhost:8080/"
        },
        "id": "gmK50wbRNA7c",
        "outputId": "2b333b52-202b-4666-838c-53d2c2d045b6"
      },
      "execution_count": 5,
      "outputs": [
        {
          "output_type": "stream",
          "name": "stdout",
          "text": [
            "<class 'list'>\n",
            "<class 'numpy.ndarray'>\n",
            "<class 'tuple'>\n",
            "<class 'numpy.ndarray'>\n"
          ]
        }
      ]
    },
    {
      "cell_type": "code",
      "source": [
        "# To create N-D array\n",
        "#2- np.array( [list of lists] ) #returns an N-D numpy array object\n",
        "\n",
        "print(np.array([[1,2,3], [4,5,6], [7,8,9]])) #convert to N-D array"
      ],
      "metadata": {
        "colab": {
          "base_uri": "https://localhost:8080/"
        },
        "id": "ocMHUS6YNNw9",
        "outputId": "2a52fec6-28cc-4c14-b469-f9a503e38a05"
      },
      "execution_count": 6,
      "outputs": [
        {
          "output_type": "stream",
          "name": "stdout",
          "text": [
            "[[1 2 3]\n",
            " [4 5 6]\n",
            " [7 8 9]]\n"
          ]
        }
      ]
    },
    {
      "cell_type": "code",
      "source": [
        "# access one element\n",
        "#array_name[row, column]\n",
        "array2= np.array([[1,2,3,4], [5,6,7,8], [9,10,11,12]])\n",
        "print(array2)\n",
        "\n",
        "print(array2[0,0])\n",
        "print(array2[1,0])\n",
        "print(array2[2,2])"
      ],
      "metadata": {
        "colab": {
          "base_uri": "https://localhost:8080/"
        },
        "id": "XWx84wA0Ov5A",
        "outputId": "6ffbbff4-50b9-4539-9af4-a22ab0a6cb9e"
      },
      "execution_count": 8,
      "outputs": [
        {
          "output_type": "stream",
          "name": "stdout",
          "text": [
            "[[ 1  2  3  4]\n",
            " [ 5  6  7  8]\n",
            " [ 9 10 11 12]]\n",
            "1\n",
            "5\n",
            "11\n"
          ]
        }
      ]
    },
    {
      "cell_type": "code",
      "source": [
        "# To display the shape of a numpy array\n",
        "\n",
        "array1= np.array([1,2,3])\n",
        "array2= np.array([[1,2], [4,5,], [7,8]])\n",
        "\n",
        "print(array1.shape)\n",
        "print(array2.shape)"
      ],
      "metadata": {
        "colab": {
          "base_uri": "https://localhost:8080/"
        },
        "id": "Z4ZESEkCNWE7",
        "outputId": "d8f84b5a-55e6-494b-8f7b-28cfc0799e3d"
      },
      "execution_count": 9,
      "outputs": [
        {
          "output_type": "stream",
          "name": "stdout",
          "text": [
            "(3,)\n",
            "(3, 2)\n"
          ]
        }
      ]
    },
    {
      "cell_type": "code",
      "source": [
        "# access range of elements\n",
        "#array_name[start_row : end_row+1, start_column : end_column+1]\n",
        "array2= np.array([[1,2,3,4], [5,6,7,8], [9,10,11,12]])\n",
        "print(array2)\n",
        "\n",
        "print(array2[0:1,0:1])\n",
        "print(\"--------------------\")\n",
        "print(array2[0:2,0:1])\n",
        "print(\"--------------------\")\n",
        "print(array2[0:2,0:3])\n",
        "print(\"--------------------\")\n",
        "print(array2[0:3,0:4])"
      ],
      "metadata": {
        "colab": {
          "base_uri": "https://localhost:8080/"
        },
        "id": "7-Ks0cldRami",
        "outputId": "424ccf35-dd11-4c3d-da36-103feacacddc"
      },
      "execution_count": 15,
      "outputs": [
        {
          "output_type": "stream",
          "name": "stdout",
          "text": [
            "[[ 1  2  3  4]\n",
            " [ 5  6  7  8]\n",
            " [ 9 10 11 12]]\n",
            "[[1]]\n",
            "--------------------\n",
            "[[1]\n",
            " [5]]\n",
            "--------------------\n",
            "[[1 2 3]\n",
            " [5 6 7]]\n",
            "--------------------\n",
            "[[ 1  2  3  4]\n",
            " [ 5  6  7  8]\n",
            " [ 9 10 11 12]]\n"
          ]
        }
      ]
    },
    {
      "cell_type": "code",
      "source": [
        " #sum the elements of an array\n",
        "\n",
        "array2= np.array([[1,2,3,4], [5,6,7,8], [9,10,11,12]])\n",
        "print(array2)\n",
        "print(\"--------------------\")\n",
        "\n",
        "print(array2.sum())"
      ],
      "metadata": {
        "colab": {
          "base_uri": "https://localhost:8080/"
        },
        "id": "Z1dnWvnCUC3Q",
        "outputId": "8995b554-bdf8-4b74-bd64-10928af906d1"
      },
      "execution_count": 16,
      "outputs": [
        {
          "output_type": "stream",
          "name": "stdout",
          "text": [
            "[[ 1  2  3  4]\n",
            " [ 5  6  7  8]\n",
            " [ 9 10 11 12]]\n",
            "--------------------\n",
            "78\n"
          ]
        }
      ]
    },
    {
      "cell_type": "code",
      "source": [
        "# sum the elements of each row\n",
        "print(array2.sum(axis=1))\n",
        "\n",
        "# sum the elements of each column\n",
        "print(array2.sum(axis=0))"
      ],
      "metadata": {
        "colab": {
          "base_uri": "https://localhost:8080/"
        },
        "id": "PTjTtDQSUMje",
        "outputId": "f76a11b4-aace-43ff-9ade-4d25eb22ebf3"
      },
      "execution_count": 17,
      "outputs": [
        {
          "output_type": "stream",
          "name": "stdout",
          "text": [
            "[10 26 42]\n",
            "[15 18 21 24]\n"
          ]
        }
      ]
    },
    {
      "cell_type": "code",
      "source": [
        "# calculate the max or min or mean of an array\n",
        "\n",
        "array2= np.array([[1,2,3,4], [5,6,7,8], [9,10,11,12]])\n",
        "print(array2)\n",
        "print(\"--------------------\")\n",
        "\n",
        "print(array2.max())\n",
        "print(array2.min())\n",
        "print(array2.mean())"
      ],
      "metadata": {
        "colab": {
          "base_uri": "https://localhost:8080/"
        },
        "id": "P93DVtb4Ufwn",
        "outputId": "b6a975e5-d275-43e9-eb8a-b415c921a6b5"
      },
      "execution_count": 18,
      "outputs": [
        {
          "output_type": "stream",
          "name": "stdout",
          "text": [
            "[[ 1  2  3  4]\n",
            " [ 5  6  7  8]\n",
            " [ 9 10 11 12]]\n",
            "--------------------\n",
            "12\n",
            "1\n",
            "6.5\n"
          ]
        }
      ]
    },
    {
      "cell_type": "code",
      "source": [
        "#pd.series( [list] ) # returns a pandas series\n",
        "\n",
        "array=np.array(['A', 'B', 'C'])\n",
        "print (array)\n",
        "\n",
        "print(\"--------------------\")\n",
        "\n",
        "series=pd.Series(['A', 'B', 'C'])\n",
        "print (series)"
      ],
      "metadata": {
        "colab": {
          "base_uri": "https://localhost:8080/"
        },
        "id": "AlMLyRYAU304",
        "outputId": "f1bd2edc-0696-4690-b30f-db6e4efde3b1"
      },
      "execution_count": 21,
      "outputs": [
        {
          "output_type": "stream",
          "name": "stdout",
          "text": [
            "['A' 'B' 'C']\n",
            "--------------------\n",
            "0    A\n",
            "1    B\n",
            "2    C\n",
            "dtype: object\n"
          ]
        }
      ]
    },
    {
      "cell_type": "code",
      "source": [
        "# display the shape of the seies\n",
        "print(series.shape)\n",
        "\n",
        "#return the series values\n",
        "print(series.values)\n"
      ],
      "metadata": {
        "colab": {
          "base_uri": "https://localhost:8080/"
        },
        "id": "UQVhkQ78VEMQ",
        "outputId": "ae30a463-7a3c-46cf-f769-c3e1e20edc59"
      },
      "execution_count": 22,
      "outputs": [
        {
          "output_type": "stream",
          "name": "stdout",
          "text": [
            "(3,)\n",
            "['A' 'B' 'C']\n"
          ]
        }
      ]
    },
    {
      "cell_type": "code",
      "source": [
        "#return min or max or mean of a series values\n",
        "series2=pd.Series([13,35,22])\n",
        "\n",
        "print(series2.min())\n",
        "print(series2.max())\n",
        "print(series2.mean())"
      ],
      "metadata": {
        "colab": {
          "base_uri": "https://localhost:8080/"
        },
        "id": "EC_6QPC_VM9h",
        "outputId": "a79bb8dd-9087-498d-b6c4-fa9f4e0ad338"
      },
      "execution_count": 23,
      "outputs": [
        {
          "output_type": "stream",
          "name": "stdout",
          "text": [
            "13\n",
            "35\n",
            "23.333333333333332\n"
          ]
        }
      ]
    },
    {
      "cell_type": "code",
      "source": [
        "#index is not necessarily to be a number. It can be more than that.\n",
        "\n",
        "print(series2)\n",
        "\n",
        "print(\"----------------\")\n",
        "\n",
        "series3=pd.Series([13,35,22], index=[\"John\", \"Mike\", \"David\"])\n",
        "print(series3)"
      ],
      "metadata": {
        "colab": {
          "base_uri": "https://localhost:8080/"
        },
        "id": "xPUDZSWYVXx8",
        "outputId": "8e73d82d-de85-4756-e165-a8b33244d27b"
      },
      "execution_count": 24,
      "outputs": [
        {
          "output_type": "stream",
          "name": "stdout",
          "text": [
            "0    13\n",
            "1    35\n",
            "2    22\n",
            "dtype: int64\n",
            "----------------\n",
            "John     13\n",
            "Mike     35\n",
            "David    22\n",
            "dtype: int64\n"
          ]
        }
      ]
    },
    {
      "cell_type": "code",
      "source": [
        "# pd.Dataframe( [list of lists], index=[list of row index], columns=[list of column index] ) # returns a pandas dataframe\n",
        "\n",
        "array=np.array([[1,2,3], [4,5,6], [7,8,9]])\n",
        "print(array)\n",
        "\n",
        "print(\"-------------------\")\n",
        "\n",
        "dataframe=pd.DataFrame([[1,2,3], [4,5,6], [7,8,9]])\n",
        "print(dataframe)"
      ],
      "metadata": {
        "colab": {
          "base_uri": "https://localhost:8080/"
        },
        "id": "5mW7BINMVozI",
        "outputId": "8adcb97c-a354-44fa-b18e-b30de72bb539"
      },
      "execution_count": 25,
      "outputs": [
        {
          "output_type": "stream",
          "name": "stdout",
          "text": [
            "[[1 2 3]\n",
            " [4 5 6]\n",
            " [7 8 9]]\n",
            "-------------------\n",
            "   0  1  2\n",
            "0  1  2  3\n",
            "1  4  5  6\n",
            "2  7  8  9\n"
          ]
        }
      ]
    },
    {
      "cell_type": "code",
      "source": [
        "dataframe2=pd.DataFrame([[1,2,3], [4,5,6], [7,8,9]], index=[\"John\", \"Mike\", \"David\"], columns=[\"quiz1\", \"quiz2\", \"quiz3\"])\n",
        "dataframe2"
      ],
      "metadata": {
        "colab": {
          "base_uri": "https://localhost:8080/",
          "height": 143
        },
        "id": "juZ5uXUyWA2G",
        "outputId": "2848327f-3603-45fd-9226-47da6c244e52"
      },
      "execution_count": 26,
      "outputs": [
        {
          "output_type": "execute_result",
          "data": {
            "text/plain": [
              "       quiz1  quiz2  quiz3\n",
              "John       1      2      3\n",
              "Mike       4      5      6\n",
              "David      7      8      9"
            ],
            "text/html": [
              "\n",
              "  <div id=\"df-7ab13e90-b2a5-4508-9fa9-bdf41fe9979b\">\n",
              "    <div class=\"colab-df-container\">\n",
              "      <div>\n",
              "<style scoped>\n",
              "    .dataframe tbody tr th:only-of-type {\n",
              "        vertical-align: middle;\n",
              "    }\n",
              "\n",
              "    .dataframe tbody tr th {\n",
              "        vertical-align: top;\n",
              "    }\n",
              "\n",
              "    .dataframe thead th {\n",
              "        text-align: right;\n",
              "    }\n",
              "</style>\n",
              "<table border=\"1\" class=\"dataframe\">\n",
              "  <thead>\n",
              "    <tr style=\"text-align: right;\">\n",
              "      <th></th>\n",
              "      <th>quiz1</th>\n",
              "      <th>quiz2</th>\n",
              "      <th>quiz3</th>\n",
              "    </tr>\n",
              "  </thead>\n",
              "  <tbody>\n",
              "    <tr>\n",
              "      <th>John</th>\n",
              "      <td>1</td>\n",
              "      <td>2</td>\n",
              "      <td>3</td>\n",
              "    </tr>\n",
              "    <tr>\n",
              "      <th>Mike</th>\n",
              "      <td>4</td>\n",
              "      <td>5</td>\n",
              "      <td>6</td>\n",
              "    </tr>\n",
              "    <tr>\n",
              "      <th>David</th>\n",
              "      <td>7</td>\n",
              "      <td>8</td>\n",
              "      <td>9</td>\n",
              "    </tr>\n",
              "  </tbody>\n",
              "</table>\n",
              "</div>\n",
              "      <button class=\"colab-df-convert\" onclick=\"convertToInteractive('df-7ab13e90-b2a5-4508-9fa9-bdf41fe9979b')\"\n",
              "              title=\"Convert this dataframe to an interactive table.\"\n",
              "              style=\"display:none;\">\n",
              "        \n",
              "  <svg xmlns=\"http://www.w3.org/2000/svg\" height=\"24px\"viewBox=\"0 0 24 24\"\n",
              "       width=\"24px\">\n",
              "    <path d=\"M0 0h24v24H0V0z\" fill=\"none\"/>\n",
              "    <path d=\"M18.56 5.44l.94 2.06.94-2.06 2.06-.94-2.06-.94-.94-2.06-.94 2.06-2.06.94zm-11 1L8.5 8.5l.94-2.06 2.06-.94-2.06-.94L8.5 2.5l-.94 2.06-2.06.94zm10 10l.94 2.06.94-2.06 2.06-.94-2.06-.94-.94-2.06-.94 2.06-2.06.94z\"/><path d=\"M17.41 7.96l-1.37-1.37c-.4-.4-.92-.59-1.43-.59-.52 0-1.04.2-1.43.59L10.3 9.45l-7.72 7.72c-.78.78-.78 2.05 0 2.83L4 21.41c.39.39.9.59 1.41.59.51 0 1.02-.2 1.41-.59l7.78-7.78 2.81-2.81c.8-.78.8-2.07 0-2.86zM5.41 20L4 18.59l7.72-7.72 1.47 1.35L5.41 20z\"/>\n",
              "  </svg>\n",
              "      </button>\n",
              "      \n",
              "  <style>\n",
              "    .colab-df-container {\n",
              "      display:flex;\n",
              "      flex-wrap:wrap;\n",
              "      gap: 12px;\n",
              "    }\n",
              "\n",
              "    .colab-df-convert {\n",
              "      background-color: #E8F0FE;\n",
              "      border: none;\n",
              "      border-radius: 50%;\n",
              "      cursor: pointer;\n",
              "      display: none;\n",
              "      fill: #1967D2;\n",
              "      height: 32px;\n",
              "      padding: 0 0 0 0;\n",
              "      width: 32px;\n",
              "    }\n",
              "\n",
              "    .colab-df-convert:hover {\n",
              "      background-color: #E2EBFA;\n",
              "      box-shadow: 0px 1px 2px rgba(60, 64, 67, 0.3), 0px 1px 3px 1px rgba(60, 64, 67, 0.15);\n",
              "      fill: #174EA6;\n",
              "    }\n",
              "\n",
              "    [theme=dark] .colab-df-convert {\n",
              "      background-color: #3B4455;\n",
              "      fill: #D2E3FC;\n",
              "    }\n",
              "\n",
              "    [theme=dark] .colab-df-convert:hover {\n",
              "      background-color: #434B5C;\n",
              "      box-shadow: 0px 1px 3px 1px rgba(0, 0, 0, 0.15);\n",
              "      filter: drop-shadow(0px 1px 2px rgba(0, 0, 0, 0.3));\n",
              "      fill: #FFFFFF;\n",
              "    }\n",
              "  </style>\n",
              "\n",
              "      <script>\n",
              "        const buttonEl =\n",
              "          document.querySelector('#df-7ab13e90-b2a5-4508-9fa9-bdf41fe9979b button.colab-df-convert');\n",
              "        buttonEl.style.display =\n",
              "          google.colab.kernel.accessAllowed ? 'block' : 'none';\n",
              "\n",
              "        async function convertToInteractive(key) {\n",
              "          const element = document.querySelector('#df-7ab13e90-b2a5-4508-9fa9-bdf41fe9979b');\n",
              "          const dataTable =\n",
              "            await google.colab.kernel.invokeFunction('convertToInteractive',\n",
              "                                                     [key], {});\n",
              "          if (!dataTable) return;\n",
              "\n",
              "          const docLinkHtml = 'Like what you see? Visit the ' +\n",
              "            '<a target=\"_blank\" href=https://colab.research.google.com/notebooks/data_table.ipynb>data table notebook</a>'\n",
              "            + ' to learn more about interactive tables.';\n",
              "          element.innerHTML = '';\n",
              "          dataTable['output_type'] = 'display_data';\n",
              "          await google.colab.output.renderOutput(dataTable, element);\n",
              "          const docLink = document.createElement('div');\n",
              "          docLink.innerHTML = docLinkHtml;\n",
              "          element.appendChild(docLink);\n",
              "        }\n",
              "      </script>\n",
              "    </div>\n",
              "  </div>\n",
              "  "
            ]
          },
          "metadata": {},
          "execution_count": 26
        }
      ]
    },
    {
      "cell_type": "code",
      "source": [
        "# returns a numpy array of random values from normal distributions\n",
        "# np.random.randn(#rows, #columns)\n",
        "\n",
        "array=np.random.randn(4,2)\n",
        "\n",
        "print(array)"
      ],
      "metadata": {
        "colab": {
          "base_uri": "https://localhost:8080/"
        },
        "id": "oR8YbkdFoaI1",
        "outputId": "0e598bcf-8a72-4055-f498-bed74b9238ba"
      },
      "execution_count": 27,
      "outputs": [
        {
          "output_type": "stream",
          "name": "stdout",
          "text": [
            "[[-0.83912263 -1.33600295]\n",
            " [-0.74566165 -0.3176803 ]\n",
            " [-1.16009355  0.21382217]\n",
            " [-1.73905577  1.03163412]]\n"
          ]
        }
      ]
    },
    {
      "cell_type": "code",
      "source": [
        "# returns a range of  dates\n",
        "# pd. date_range(start date, end date, frequency)\n",
        "\n",
        "date1=pd.date_range('2023-9-1','2023-9-3', freq='d')\n",
        "print(date1)\n",
        "\n",
        "print(\"------------------------------------------------------------------------------------\")\n",
        "\n",
        "date2=pd.date_range('2022-9-1','2023-9-3', freq='m')\n",
        "print(date2)"
      ],
      "metadata": {
        "colab": {
          "base_uri": "https://localhost:8080/"
        },
        "id": "1j40m5wvonJg",
        "outputId": "f211f055-9e5a-4e00-8cf4-abf88eb4806d"
      },
      "execution_count": 28,
      "outputs": [
        {
          "output_type": "stream",
          "name": "stdout",
          "text": [
            "DatetimeIndex(['2023-09-01', '2023-09-02', '2023-09-03'], dtype='datetime64[ns]', freq='D')\n",
            "------------------------------------------------------------------------------------\n",
            "DatetimeIndex(['2022-09-30', '2022-10-31', '2022-11-30', '2022-12-31',\n",
            "               '2023-01-31', '2023-02-28', '2023-03-31', '2023-04-30',\n",
            "               '2023-05-31', '2023-06-30', '2023-07-31', '2023-08-31'],\n",
            "              dtype='datetime64[ns]', freq='M')\n"
          ]
        }
      ]
    }
  ]
}