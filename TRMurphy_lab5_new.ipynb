{
  "nbformat": 4,
  "nbformat_minor": 0,
  "metadata": {
    "colab": {
      "provenance": [],
      "authorship_tag": "ABX9TyMQ9jZuzIwfTsTMUJKjNOKv",
      "include_colab_link": true
    },
    "kernelspec": {
      "name": "python3",
      "display_name": "Python 3"
    },
    "language_info": {
      "name": "python"
    }
  },
  "cells": [
    {
      "cell_type": "markdown",
      "metadata": {
        "id": "view-in-github",
        "colab_type": "text"
      },
      "source": [
        "<a href=\"https://colab.research.google.com/github/biffsocko/SUNY_Poly_NCS590/blob/main/TRMurphy_lab5_new.ipynb\" target=\"_parent\"><img src=\"https://colab.research.google.com/assets/colab-badge.svg\" alt=\"Open In Colab\"/></a>"
      ]
    },
    {
      "cell_type": "markdown",
      "source": [
        "<h1>\n",
        "Tom Murphy</h1>\n",
        "NCS590 /  Machine Learning<br>\n",
        "3/7/2023"
      ],
      "metadata": {
        "id": "2fpli5Jz1xkA"
      }
    },
    {
      "cell_type": "markdown",
      "source": [
        "**Import all the modules and data**<br>\n",
        "note: importing both Decision Tree and Nearest Neighbor clasifiers in thie section as well"
      ],
      "metadata": {
        "id": "jxJAnhnJ2GdO"
      }
    },
    {
      "cell_type": "code",
      "execution_count": 41,
      "metadata": {
        "id": "DAwGx5pYMkJN"
      },
      "outputs": [],
      "source": [
        "##########################################\n",
        "# Import all the things\n",
        "##########################################\n",
        "import matplotlib.pyplot as plt\n",
        "from sklearn import metrics\n",
        "\n",
        "import pandas as pd\n",
        "from sklearn.model_selection import train_test_split\n",
        "\n",
        "#import the logistic regression classifier\n",
        "from sklearn.linear_model import LogisticRegression\n",
        "\n",
        "#import the Decision Tree classifier\n",
        "from sklearn import tree\n",
        "\n",
        "#import the NearestNeighbors classifier\n",
        "from sklearn.neighbors import KNeighborsClassifier\n",
        "\n",
        "# import the NearestNeighbors classifier\n",
        "from sklearn.ensemble import RandomForestClassifier\n",
        "\n",
        "#import some classification evaluation metrics\n",
        "from sklearn.metrics import confusion_matrix, accuracy_score, recall_score, precision_score, f1_score\n",
        "\n",
        "# print test messages when set greater than 0\n",
        "DEBUG=0   \n",
        "\n",
        "\n",
        "##########################################\n",
        "# Import the data\n",
        "##########################################\n",
        "df = pd.read_csv('/content/payment_fraud.csv')\n",
        "df = pd.get_dummies(df, columns=['paymentMethod'])\n",
        "\n",
        "if(DEBUG > 0 ):\n",
        "    # see what the data look like\n",
        "    df.sample(10)\n"
      ]
    },
    {
      "cell_type": "markdown",
      "source": [
        "**plots the graphs**"
      ],
      "metadata": {
        "id": "wwLd7o-9vZuT"
      }
    },
    {
      "cell_type": "code",
      "source": [
        "def plotit(name):\n",
        "    fpr, tpr, thresholds = metrics.roc_curve(y_test, y_pred)\n",
        "    roc_auc = metrics.auc(fpr, tpr)\n",
        "\n",
        "    display = metrics.RocCurveDisplay(fpr=fpr, tpr=tpr, roc_auc=roc_auc,\n",
        "                                   estimator_name= name)\n",
        "    display.plot()\n",
        "    plt.show()"
      ],
      "metadata": {
        "id": "YQL-_TSitq6L"
      },
      "execution_count": 42,
      "outputs": []
    },
    {
      "cell_type": "markdown",
      "source": [
        "**does the training**"
      ],
      "metadata": {
        "id": "sq-E8nRYwrcG"
      }
    },
    {
      "cell_type": "code",
      "source": [
        "def trainit():\n",
        "    X_train, X_test, y_train, y_test = train_test_split(\n",
        "    df.drop('label', axis=1), df['label'], test_size=0.33, random_state=42)"
      ],
      "metadata": {
        "id": "jq048no-vwMK"
      },
      "execution_count": 43,
      "outputs": []
    },
    {
      "cell_type": "markdown",
      "source": [
        "<h1>Decision Tree</h1>"
      ],
      "metadata": {
        "id": "OhjuVjXh2gwj"
      }
    },
    {
      "cell_type": "code",
      "source": [
        "trainit()\n",
        "\n",
        "print(\"==================================\")\n",
        "print(\"Decision Tree\")\n",
        "print(\"==================================\")\n",
        "\n",
        "clf = tree.DecisionTreeClassifier() \n",
        "clf.fit(X_train, y_train)\n",
        "y_pred = clf.predict(X_test)\n",
        "print(confusion_matrix(y_test, y_pred))\n",
        "print(\"\\n\")\n",
        "print(\"Accuracy:\", accuracy_score(y_pred, y_test)*100)\n",
        "print(\"Recall:\", recall_score(y_pred, y_test)*100)\n",
        "print(\"Precision:\", precision_score(y_pred, y_test)*100)\n",
        "print(\"F1 Score:\", f1_score(y_pred, y_test)*100)"
      ],
      "metadata": {
        "colab": {
          "base_uri": "https://localhost:8080/"
        },
        "id": "LL-R08LG1J-7",
        "outputId": "93bdf214-bce9-4151-bb76-5a8fb3a8b986"
      },
      "execution_count": 44,
      "outputs": [
        {
          "output_type": "stream",
          "name": "stdout",
          "text": [
            "==================================\n",
            "Decision Tree\n",
            "==================================\n",
            "[[12753     0]\n",
            " [    0   190]]\n",
            "\n",
            "\n",
            "Accuracy: 100.0\n",
            "Recall: 100.0\n",
            "Precision: 100.0\n",
            "F1 Score: 100.0\n"
          ]
        }
      ]
    },
    {
      "cell_type": "code",
      "source": [
        "plotit(\"decision tree\")"
      ],
      "metadata": {
        "id": "NM7wpZ4sSUUm",
        "outputId": "35babd91-65a3-4d1c-b3af-3802a9127efb",
        "colab": {
          "base_uri": "https://localhost:8080/",
          "height": 279
        }
      },
      "execution_count": 45,
      "outputs": [
        {
          "output_type": "display_data",
          "data": {
            "text/plain": [
              "<Figure size 432x288 with 1 Axes>"
            ],
            "image/png": "[encoded data removed]"
          },
          "metadata": {
            "needs_background": "light"
          }
        }
      ]
    },
    {
      "cell_type": "markdown",
      "source": [
        "<h1>Nearest Neighbor</h1>\n"
      ],
      "metadata": {
        "id": "Ez60NxAI2rmw"
      }
    },
    {
      "cell_type": "code",
      "source": [
        "trainit()\n",
        "\n",
        "print(\"==================================\")\n",
        "print(\"Nearest Neighbor\")\n",
        "print(\"==================================\")\n",
        "\n",
        "\n",
        "\n",
        "neigh = KNeighborsClassifier(n_neighbors=7)\n",
        "neigh.fit(X_train, y_train)\n",
        "y_pred = neigh.predict(X_test)\n",
        "print(confusion_matrix(y_test, y_pred))\n",
        "print(\"\\n\")\n",
        "print(\"Accuracy:\", accuracy_score(y_pred, y_test)*100)\n",
        "print(\"Recall:\", recall_score(y_pred, y_test)*100)\n",
        "print(\"Precision:\", precision_score(y_pred, y_test)*100)\n",
        "print(\"F1 Score:\", f1_score(y_pred, y_test)*100)"
      ],
      "metadata": {
        "colab": {
          "base_uri": "https://localhost:8080/"
        },
        "id": "Y0Dvyg3FwqlC",
        "outputId": "b7a03a47-0f1c-49b6-c934-521d0bfd8c85"
      },
      "execution_count": 46,
      "outputs": [
        {
          "output_type": "stream",
          "name": "stdout",
          "text": [
            "==================================\n",
            "Nearest Neighbor\n",
            "==================================\n",
            "[[12753     0]\n",
            " [    0   190]]\n",
            "\n",
            "\n",
            "Accuracy: 100.0\n",
            "Recall: 100.0\n",
            "Precision: 100.0\n",
            "F1 Score: 100.0\n"
          ]
        }
      ]
    },
    {
      "cell_type": "code",
      "source": [
        "plotit(\"nearest neighbor\")"
      ],
      "metadata": {
        "colab": {
          "base_uri": "https://localhost:8080/",
          "height": 279
        },
        "id": "oDdsEsB70Zwb",
        "outputId": "d658a312-a077-4f70-f33e-5dd9290a71bb"
      },
      "execution_count": 47,
      "outputs": [
        {
          "output_type": "display_data",
          "data": {
            "text/plain": [
              "<Figure size 432x288 with 1 Axes>"
            ],
            "image/png": "[encoded data removed]"
          },
          "metadata": {
            "needs_background": "light"
          }
        }
      ]
    },
    {
      "cell_type": "markdown",
      "source": [
        "<h1>Random Forest</H1>"
      ],
      "metadata": {
        "id": "fAqfbFWjwY-9"
      }
    },
    {
      "cell_type": "code",
      "source": [
        "trainit()\n",
        "\n",
        "print(\"==================================\")\n",
        "print(\"Random Forest\")\n",
        "print(\"==================================\")\n",
        "\n",
        "clf = RandomForestClassifier()\n",
        "clf.fit(X_train, y_train)\n",
        "y_pred = clf.predict(X_test)\n",
        "print(confusion_matrix(y_test, y_pred))\n",
        "print(\"\\n\")\n",
        "print(\"Accuracy:\", accuracy_score(y_pred, y_test)*100)\n",
        "print(\"Recall:\", recall_score(y_pred, y_test)*100)\n",
        "print(\"Precision:\", precision_score(y_pred, y_test)*100)\n",
        "print(\"F1 Score:\", f1_score(y_pred, y_test)*100)"
      ],
      "metadata": {
        "colab": {
          "base_uri": "https://localhost:8080/"
        },
        "id": "cb64DElwr_As",
        "outputId": "6ae82c23-076f-4854-c7e4-b28a2b1f7f84"
      },
      "execution_count": 50,
      "outputs": [
        {
          "output_type": "stream",
          "name": "stdout",
          "text": [
            "==================================\n",
            "Random Forest\n",
            "==================================\n",
            "[[12753     0]\n",
            " [    0   190]]\n",
            "\n",
            "\n",
            "Accuracy: 100.0\n",
            "Recall: 100.0\n",
            "Precision: 100.0\n",
            "F1 Score: 100.0\n"
          ]
        }
      ]
    },
    {
      "cell_type": "code",
      "source": [
        "plotit(\"random forest\")"
      ],
      "metadata": {
        "colab": {
          "base_uri": "https://localhost:8080/",
          "height": 279
        },
        "id": "ZsOQL9lot4av",
        "outputId": "8f161d49-afdd-46f4-b37e-5734ed861bb3"
      },
      "execution_count": 49,
      "outputs": [
        {
          "output_type": "display_data",
          "data": {
            "text/plain": [
              "<Figure size 432x288 with 1 Axes>"
            ],
            "image/png": "[encoded data removed]"
          },
          "metadata": {
            "needs_background": "light"
          }
        }
      ]
    }
  ]
}