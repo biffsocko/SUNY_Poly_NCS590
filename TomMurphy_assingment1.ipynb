{
  "nbformat": 4,
  "nbformat_minor": 0,
  "metadata": {
    "colab": {
      "provenance": [],
      "include_colab_link": true
    },
    "kernelspec": {
      "name": "python3",
      "display_name": "Python 3"
    },
    "language_info": {
      "name": "python"
    }
  },
  "cells": [
    {
      "cell_type": "markdown",
      "metadata": {
        "id": "view-in-github",
        "colab_type": "text"
      },
      "source": [
        "<a href=\"https://colab.research.google.com/github/biffsocko/SUNY_Poly_NCS590/blob/main/TomMurphy_assingment1.ipynb\" target=\"_parent\"><img src=\"https://colab.research.google.com/assets/colab-badge.svg\" alt=\"Open In Colab\"/></a>"
      ]
    },
    {
      "cell_type": "markdown",
      "source": [
        "Tom Murphy<br>\n",
        "NCS590 <br>\n",
        "Lab4 / Task3"
      ],
      "metadata": {
        "id": "d385ff0qr7nL"
      }
    },
    {
      "cell_type": "markdown",
      "source": [
        "Added \"rooms_per_person in this section.  Also added DEBUG variable for troubleshooting sometimes."
      ],
      "metadata": {
        "id": "lkhXDBNmryw8"
      }
    },
    {
      "cell_type": "code",
      "execution_count": null,
      "metadata": {
        "id": "tgx-ZGAgbGHz"
      },
      "outputs": [],
      "source": [
        "#@title Import relevant modules\n",
        "import pandas as pd\n",
        "import tensorflow as tf\n",
        "from matplotlib import pyplot as plt\n",
        "\n",
        "\n",
        "DEBUG=0\n",
        "\n",
        "# The following lines adjust the granularity of reporting. \n",
        "pd.options.display.max_rows = 10\n",
        "pd.options.display.float_format = \"{:.1f}\".format\n",
        "\n",
        "# Import the dataset.\n",
        "training_df = pd.read_csv(filepath_or_buffer=\"https://download.mlcc.google.com/mledu-datasets/california_housing_train.csv\", sep=',')\n",
        "training_df[\"rooms_per_person\"] = (training_df[\"total_rooms\"] / training_df[\"population\"])\n",
        "\n",
        "if(DEBUG > 0 ):\n",
        "    print(training_df)\n"
      ]
    },
    {
      "cell_type": "code",
      "source": [
        "#@title Define the functions that build and train a model\n",
        "def build_model(my_learning_rate):\n",
        "  \"\"\"Create and compile a simple linear regression model.\"\"\"\n",
        "  # Most simple tf.keras models are sequential.\n",
        "  model = tf.keras.models.Sequential()\n",
        "\n",
        "  # Describe the topography of the model.\n",
        "  # The topography of a simple linear regression model\n",
        "  # is a single node in a single layer.\n",
        "  model.add(tf.keras.layers.Dense(units=1, \n",
        "                                  input_shape=(1,)))\n",
        "\n",
        "  # Compile the model topography into code that TensorFlow can efficiently\n",
        "  # execute. Configure training to minimize the model's mean squared error. \n",
        "  model.compile(optimizer=tf.keras.optimizers.RMSprop(lr=my_learning_rate),\n",
        "                loss=\"mean_squared_error\",\n",
        "                metrics=[tf.keras.metrics.RootMeanSquaredError()])\n",
        "\n",
        "  return model        \n",
        "\n",
        "\n",
        "def train_model(model, df, feature, label, epochs, batch_size):\n",
        "  \"\"\"Train the model by feeding it data.\"\"\"\n",
        "\n",
        "  # Feed the model the feature and the label.\n",
        "  # The model will train for the specified number of epochs. \n",
        "  history = model.fit(x=df[feature],\n",
        "                      y=df[label],\n",
        "                      batch_size=batch_size,\n",
        "                      epochs=epochs)\n",
        "\n",
        "  # Gather the trained model's weight and bias.\n",
        "  trained_weight = model.get_weights()[0]\n",
        "  trained_bias = model.get_weights()[1]\n",
        "\n",
        "  # The list of epochs is stored separately from the rest of history.\n",
        "  epochs = history.epoch\n",
        "  \n",
        "  # Isolate the error for each epoch.\n",
        "  hist = pd.DataFrame(history.history)\n",
        "\n",
        "  # To track the progression of training, we're going to take a snapshot\n",
        "  # of the model's root mean squared error at each epoch. \n",
        "  rmse = hist[\"root_mean_squared_error\"]\n",
        "\n",
        "  return trained_weight, trained_bias, epochs, rmse\n",
        "\n",
        "print(\"Defined the build_model and train_model functions.\")"
      ],
      "metadata": {
        "colab": {
          "base_uri": "https://localhost:8080/"
        },
        "id": "iiCwcyrNbs6C",
        "outputId": "90667b3e-1d8e-4c38-a089-36807ac2c9cb"
      },
      "execution_count": null,
      "outputs": [
        {
          "output_type": "stream",
          "name": "stdout",
          "text": [
            "Defined the build_model and train_model functions.\n"
          ]
        }
      ]
    },
    {
      "cell_type": "code",
      "source": [
        "#@title Define the plotting functions\n",
        "def plot_the_model(trained_weight, trained_bias, feature, label):\n",
        "  \"\"\"Plot the trained model against 200 random training examples.\"\"\"\n",
        "\n",
        "  # Label the axes.\n",
        "  plt.xlabel(feature)\n",
        "  plt.ylabel(label)\n",
        "\n",
        "  # Create a scatter plot from 200 random points of the dataset.\n",
        "  random_examples = training_df.sample(n=200)\n",
        "  plt.scatter(random_examples[feature], random_examples[label])\n",
        "\n",
        "  # Create a red line representing the model. The red line starts\n",
        "  # at coordinates (x0, y0) and ends at coordinates (x1, y1).\n",
        "  x0 = 0\n",
        "  y0 = trained_bias\n",
        "  x1 = 10000\n",
        "  y1 = trained_bias + (trained_weight * x1)\n",
        "  plt.plot([x0, x1], [y0, y1], c='r')\n",
        "\n",
        "  # Render the scatter plot and the red line.\n",
        "  plt.show()\n",
        "\n",
        "\n",
        "def plot_the_loss_curve(epochs, rmse):\n",
        "  \"\"\"Plot a curve of loss vs. epoch.\"\"\"\n",
        "\n",
        "  #plt.figure()\n",
        "  plt.xlabel(\"Epoch\")\n",
        "  plt.ylabel(\"Root Mean Squared Error\")\n",
        "\n",
        "  plt.plot(epochs, rmse, label=\"Loss\")\n",
        "  plt.legend()\n",
        "  plt.ylim([rmse.min()*0.97, rmse.max()])\n",
        "  plt.show()  \n",
        "\n",
        "print(\"Defined the plot_the_model and plot_the_loss_curve functions.\")"
      ],
      "metadata": {
        "colab": {
          "base_uri": "https://localhost:8080/"
        },
        "id": "zeLUINPRb3g4",
        "outputId": "dfc914af-507f-486c-f560-4d00e619bf2c"
      },
      "execution_count": null,
      "outputs": [
        {
          "output_type": "stream",
          "name": "stdout",
          "text": [
            "Defined the plot_the_model and plot_the_loss_curve functions.\n"
          ]
        }
      ]
    },
    {
      "cell_type": "code",
      "source": [
        "def predict_house_values(n, feature, label):\n",
        "  \"\"\"Predict house values based on a feature.\"\"\"\n",
        "\n",
        "  batch = training_df[feature][10000:10000 + n]\n",
        "  predicted_values = my_model.predict_on_batch(x=batch)\n",
        "\n",
        "  print(\"feature   label          predicted\")\n",
        "  print(\"  value   value          value\")\n",
        "  print(\"          in thousand$   in thousand$\")\n",
        "  print(\"--------------------------------------\")\n",
        "  for i in range(n):\n",
        "    print (\"%5.0f %6.0f %15.0f\" % (training_df[feature][10000 + i],\n",
        "                                   training_df[label][10000 + i],\n",
        "                                   predicted_values[i][0] ))"
      ],
      "metadata": {
        "id": "o0YvOmh_mtxP"
      },
      "execution_count": null,
      "outputs": []
    },
    {
      "cell_type": "code",
      "source": [
        "# Define a synthetic feature named rooms_per_person\n",
        "#training_df[\"rooms_per_person\"] = (training_df[\"total_rooms\"] / training_df[\"population\"])\n",
        "#3 # write your code here.\n",
        "\n",
        "# Don't change the next line.\n",
        "my_feature = \"rooms_per_person\"\n",
        "my_label=\"median_house_value\"\n",
        "\n",
        "# Assign values to these three hyperparameters.\n",
        "learning_rate = 0.01\n",
        "epochs = 100\n",
        "batch_size = 10\n",
        "\n",
        "\n",
        "# Don't change anything below this line.\n",
        "my_model = build_model(learning_rate)\n",
        "weight, bias, epochs, rmse = train_model(my_model, training_df,\n",
        "                                         my_feature, my_label,\n",
        "                                         epochs, batch_size)\n",
        "\n",
        "plot_the_model(weight, bias, my_feature, my_label)\n",
        "plot_the_loss_curve(epochs, rmse)\n",
        "predict_house_values(15, my_feature, my_label)"
      ],
      "metadata": {
        "colab": {
          "base_uri": "https://localhost:8080/",
          "height": 1000
        },
        "id": "-Yf4pnhScUI1",
        "outputId": "958a825c-b225-4eec-f831-a3f75f2afba3"
      },
      "execution_count": null,
      "outputs": [
        {
          "output_type": "stream",
          "name": "stderr",
          "text": [
            "WARNING:absl:`lr` is deprecated, please use `learning_rate` instead, or use the legacy optimizer, e.g.,tf.keras.optimizers.legacy.RMSprop.\n"
          ]
        },
        {
          "output_type": "stream",
          "name": "stdout",
          "text": [
            "Epoch 1/100\n",
            "1700/1700 [==============================] - 3s 2ms/step - loss: 56422727680.0000 - root_mean_squared_error: 237534.6719\n",
            "Epoch 2/100\n",
            "1700/1700 [==============================] - 2s 1ms/step - loss: 56420589568.0000 - root_mean_squared_error: 237530.1875\n",
            "Epoch 3/100\n",
            "1700/1700 [==============================] - 2s 1ms/step - loss: 56418443264.0000 - root_mean_squared_error: 237525.6719\n",
            "Epoch 4/100\n",
            "1700/1700 [==============================] - 2s 1ms/step - loss: 56416264192.0000 - root_mean_squared_error: 237521.0781\n",
            "Epoch 5/100\n",
            "1700/1700 [==============================] - 3s 2ms/step - loss: 56414216192.0000 - root_mean_squared_error: 237516.7656\n",
            "Epoch 6/100\n",
            "1700/1700 [==============================] - 3s 2ms/step - loss: 56412028928.0000 - root_mean_squared_error: 237512.1719\n",
            "Epoch 7/100\n",
            "1700/1700 [==============================] - 2s 1ms/step - loss: 56409899008.0000 - root_mean_squared_error: 237507.6875\n",
            "Epoch 8/100\n",
            "1700/1700 [==============================] - 3s 2ms/step - loss: 56407814144.0000 - root_mean_squared_error: 237503.2969\n",
            "Epoch 9/100\n",
            "1700/1700 [==============================] - 2s 1ms/step - loss: 56405651456.0000 - root_mean_squared_error: 237498.7344\n",
            "Epoch 10/100\n",
            "1700/1700 [==============================] - 3s 2ms/step - loss: 56403513344.0000 - root_mean_squared_error: 237494.2344\n",
            "Epoch 11/100\n",
            "1700/1700 [==============================] - 3s 2ms/step - loss: 56401485824.0000 - root_mean_squared_error: 237489.9688\n",
            "Epoch 12/100\n",
            "1700/1700 [==============================] - 2s 1ms/step - loss: 56399302656.0000 - root_mean_squared_error: 237485.3750\n",
            "Epoch 13/100\n",
            "1700/1700 [==============================] - 2s 1ms/step - loss: 56397123584.0000 - root_mean_squared_error: 237480.7812\n",
            "Epoch 14/100\n",
            "1700/1700 [==============================] - 2s 1ms/step - loss: 56395005952.0000 - root_mean_squared_error: 237476.3125\n",
            "Epoch 15/100\n",
            "1700/1700 [==============================] - 3s 2ms/step - loss: 56392912896.0000 - root_mean_squared_error: 237471.9219\n",
            "Epoch 16/100\n",
            "1700/1700 [==============================] - 3s 2ms/step - loss: 56390836224.0000 - root_mean_squared_error: 237467.5469\n",
            "Epoch 17/100\n",
            "1700/1700 [==============================] - 2s 1ms/step - loss: 56388653056.0000 - root_mean_squared_error: 237462.9531\n",
            "Epoch 18/100\n",
            "1700/1700 [==============================] - 2s 1ms/step - loss: 56386527232.0000 - root_mean_squared_error: 237458.4688\n",
            "Epoch 19/100\n",
            "1700/1700 [==============================] - 2s 1ms/step - loss: 56384397312.0000 - root_mean_squared_error: 237453.9844\n",
            "Epoch 20/100\n",
            "1700/1700 [==============================] - 3s 2ms/step - loss: 56382283776.0000 - root_mean_squared_error: 237449.5469\n",
            "Epoch 21/100\n",
            "1700/1700 [==============================] - 3s 2ms/step - loss: 56380182528.0000 - root_mean_squared_error: 237445.1094\n",
            "Epoch 22/100\n",
            "1700/1700 [==============================] - 2s 1ms/step - loss: 56378105856.0000 - root_mean_squared_error: 237440.7344\n",
            "Epoch 23/100\n",
            "1700/1700 [==============================] - 2s 1ms/step - loss: 56375914496.0000 - root_mean_squared_error: 237436.1250\n",
            "Epoch 24/100\n",
            "1700/1700 [==============================] - 2s 1ms/step - loss: 56373825536.0000 - root_mean_squared_error: 237431.7344\n",
            "Epoch 25/100\n",
            "1700/1700 [==============================] - 2s 1ms/step - loss: 56371732480.0000 - root_mean_squared_error: 237427.3281\n",
            "Epoch 26/100\n",
            "1700/1700 [==============================] - 3s 2ms/step - loss: 56369586176.0000 - root_mean_squared_error: 237422.7969\n",
            "Epoch 27/100\n",
            "1700/1700 [==============================] - 2s 1ms/step - loss: 56367419392.0000 - root_mean_squared_error: 237418.2344\n",
            "Epoch 28/100\n",
            "1700/1700 [==============================] - 2s 1ms/step - loss: 56365309952.0000 - root_mean_squared_error: 237413.7969\n",
            "Epoch 29/100\n",
            "1700/1700 [==============================] - 2s 1ms/step - loss: 56363171840.0000 - root_mean_squared_error: 237409.2969\n",
            "Epoch 30/100\n",
            "1700/1700 [==============================] - 2s 1ms/step - loss: 56361099264.0000 - root_mean_squared_error: 237404.9219\n",
            "Epoch 31/100\n",
            "1700/1700 [==============================] - 3s 2ms/step - loss: 56358936576.0000 - root_mean_squared_error: 237400.3750\n",
            "Epoch 32/100\n",
            "1700/1700 [==============================] - 2s 1ms/step - loss: 56356794368.0000 - root_mean_squared_error: 237395.8594\n",
            "Epoch 33/100\n",
            "1700/1700 [==============================] - 2s 1ms/step - loss: 56354693120.0000 - root_mean_squared_error: 237391.4375\n",
            "Epoch 34/100\n",
            "1700/1700 [==============================] - 2s 1ms/step - loss: 56352530432.0000 - root_mean_squared_error: 237386.8750\n",
            "Epoch 35/100\n",
            "1700/1700 [==============================] - 2s 1ms/step - loss: 56350445568.0000 - root_mean_squared_error: 237382.4844\n",
            "Epoch 36/100\n",
            "1700/1700 [==============================] - 3s 2ms/step - loss: 56348344320.0000 - root_mean_squared_error: 237378.0625\n",
            "Epoch 37/100\n",
            "1700/1700 [==============================] - 2s 1ms/step - loss: 56346124288.0000 - root_mean_squared_error: 237373.3906\n",
            "Epoch 38/100\n",
            "1700/1700 [==============================] - 2s 1ms/step - loss: 56344031232.0000 - root_mean_squared_error: 237368.9844\n",
            "Epoch 39/100\n",
            "1700/1700 [==============================] - 2s 1ms/step - loss: 56341929984.0000 - root_mean_squared_error: 237364.5469\n",
            "Epoch 40/100\n",
            "1700/1700 [==============================] - 2s 1ms/step - loss: 56339750912.0000 - root_mean_squared_error: 237359.9531\n",
            "Epoch 41/100\n",
            "1700/1700 [==============================] - 3s 2ms/step - loss: 56337674240.0000 - root_mean_squared_error: 237355.5938\n",
            "Epoch 42/100\n",
            "1700/1700 [==============================] - 2s 1ms/step - loss: 56335577088.0000 - root_mean_squared_error: 237351.1719\n",
            "Epoch 43/100\n",
            "1700/1700 [==============================] - 2s 1ms/step - loss: 56333463552.0000 - root_mean_squared_error: 237346.7188\n",
            "Epoch 44/100\n",
            "1700/1700 [==============================] - 2s 1ms/step - loss: 56331374592.0000 - root_mean_squared_error: 237342.3125\n",
            "Epoch 45/100\n",
            "1700/1700 [==============================] - 2s 1ms/step - loss: 56329166848.0000 - root_mean_squared_error: 237337.6719\n",
            "Epoch 46/100\n",
            "1700/1700 [==============================] - 3s 2ms/step - loss: 56327090176.0000 - root_mean_squared_error: 237333.2969\n",
            "Epoch 47/100\n",
            "1700/1700 [==============================] - 2s 1ms/step - loss: 56324882432.0000 - root_mean_squared_error: 237328.6250\n",
            "Epoch 48/100\n",
            "1700/1700 [==============================] - 2s 1ms/step - loss: 56322781184.0000 - root_mean_squared_error: 237324.2188\n",
            "Epoch 49/100\n",
            "1700/1700 [==============================] - 2s 1ms/step - loss: 56320634880.0000 - root_mean_squared_error: 237319.6875\n",
            "Epoch 50/100\n",
            "1700/1700 [==============================] - 2s 1ms/step - loss: 56318607360.0000 - root_mean_squared_error: 237315.4219\n",
            "Epoch 51/100\n",
            "1700/1700 [==============================] - 3s 2ms/step - loss: 56316420096.0000 - root_mean_squared_error: 237310.8125\n",
            "Epoch 52/100\n",
            "1700/1700 [==============================] - 2s 1ms/step - loss: 56314314752.0000 - root_mean_squared_error: 237306.3750\n",
            "Epoch 53/100\n",
            "1700/1700 [==============================] - 2s 1ms/step - loss: 56312156160.0000 - root_mean_squared_error: 237301.8281\n",
            "Epoch 54/100\n",
            "1700/1700 [==============================] - 2s 1ms/step - loss: 56310071296.0000 - root_mean_squared_error: 237297.4375\n",
            "Epoch 55/100\n",
            "1700/1700 [==============================] - 2s 1ms/step - loss: 56307961856.0000 - root_mean_squared_error: 237292.9844\n",
            "Epoch 56/100\n",
            "1700/1700 [==============================] - 3s 2ms/step - loss: 56305807360.0000 - root_mean_squared_error: 237288.4531\n",
            "Epoch 57/100\n",
            "1700/1700 [==============================] - 3s 1ms/step - loss: 56303726592.0000 - root_mean_squared_error: 237284.0625\n",
            "Epoch 58/100\n",
            "1700/1700 [==============================] - 2s 1ms/step - loss: 56301592576.0000 - root_mean_squared_error: 237279.5625\n",
            "Epoch 59/100\n",
            "1700/1700 [==============================] - 2s 1ms/step - loss: 56299409408.0000 - root_mean_squared_error: 237274.9688\n",
            "Epoch 60/100\n",
            "1700/1700 [==============================] - 2s 1ms/step - loss: 56297320448.0000 - root_mean_squared_error: 237270.5625\n",
            "Epoch 61/100\n",
            "1700/1700 [==============================] - 3s 2ms/step - loss: 56295227392.0000 - root_mean_squared_error: 237266.1562\n",
            "Epoch 62/100\n",
            "1700/1700 [==============================] - 3s 2ms/step - loss: 56293060608.0000 - root_mean_squared_error: 237261.5781\n",
            "Epoch 63/100\n",
            "1700/1700 [==============================] - 2s 1ms/step - loss: 56290951168.0000 - root_mean_squared_error: 237257.1406\n",
            "Epoch 64/100\n",
            "1700/1700 [==============================] - 2s 1ms/step - loss: 56288845824.0000 - root_mean_squared_error: 237252.7031\n",
            "Epoch 65/100\n",
            "1700/1700 [==============================] - 2s 1ms/step - loss: 56286728192.0000 - root_mean_squared_error: 237248.2188\n",
            "Epoch 66/100\n",
            "1700/1700 [==============================] - 3s 2ms/step - loss: 56284614656.0000 - root_mean_squared_error: 237243.7812\n",
            "Epoch 67/100\n",
            "1700/1700 [==============================] - 3s 2ms/step - loss: 56282484736.0000 - root_mean_squared_error: 237239.2969\n",
            "Epoch 68/100\n",
            "1700/1700 [==============================] - 2s 1ms/step - loss: 56280391680.0000 - root_mean_squared_error: 237234.8906\n",
            "Epoch 69/100\n",
            "1700/1700 [==============================] - 2s 1ms/step - loss: 56278237184.0000 - root_mean_squared_error: 237230.3438\n",
            "Epoch 70/100\n",
            "1700/1700 [==============================] - 2s 1ms/step - loss: 56276123648.0000 - root_mean_squared_error: 237225.9062\n",
            "Epoch 71/100\n",
            "1700/1700 [==============================] - 3s 2ms/step - loss: 56274001920.0000 - root_mean_squared_error: 237221.4219\n",
            "Epoch 72/100\n",
            "1700/1700 [==============================] - 3s 2ms/step - loss: 56271855616.0000 - root_mean_squared_error: 237216.9062\n",
            "Epoch 73/100\n",
            "1700/1700 [==============================] - 2s 1ms/step - loss: 56269770752.0000 - root_mean_squared_error: 237212.5000\n",
            "Epoch 74/100\n",
            "1700/1700 [==============================] - 2s 1ms/step - loss: 56267616256.0000 - root_mean_squared_error: 237207.9531\n",
            "Epoch 75/100\n",
            "1700/1700 [==============================] - 2s 1ms/step - loss: 56265584640.0000 - root_mean_squared_error: 237203.6719\n",
            "Epoch 76/100\n",
            "1700/1700 [==============================] - 3s 1ms/step - loss: 56263368704.0000 - root_mean_squared_error: 237199.0000\n",
            "Epoch 77/100\n",
            "1700/1700 [==============================] - 3s 2ms/step - loss: 56261226496.0000 - root_mean_squared_error: 237194.4844\n",
            "Epoch 78/100\n",
            "1700/1700 [==============================] - 2s 1ms/step - loss: 56259141632.0000 - root_mean_squared_error: 237190.0938\n",
            "Epoch 79/100\n",
            "1700/1700 [==============================] - 2s 1ms/step - loss: 56257040384.0000 - root_mean_squared_error: 237185.6719\n",
            "Epoch 80/100\n",
            "1700/1700 [==============================] - 2s 1ms/step - loss: 56254857216.0000 - root_mean_squared_error: 237181.0625\n",
            "Epoch 81/100\n",
            "1700/1700 [==============================] - 3s 1ms/step - loss: 56252768256.0000 - root_mean_squared_error: 237176.6406\n",
            "Epoch 82/100\n",
            "1700/1700 [==============================] - 3s 2ms/step - loss: 56250650624.0000 - root_mean_squared_error: 237172.2031\n",
            "Epoch 83/100\n",
            "1700/1700 [==============================] - 2s 1ms/step - loss: 56248549376.0000 - root_mean_squared_error: 237167.7656\n",
            "Epoch 84/100\n",
            "1700/1700 [==============================] - 2s 1ms/step - loss: 56246370304.0000 - root_mean_squared_error: 237163.1875\n",
            "Epoch 85/100\n",
            "1700/1700 [==============================] - 2s 1ms/step - loss: 56244310016.0000 - root_mean_squared_error: 237158.8281\n",
            "Epoch 86/100\n",
            "1700/1700 [==============================] - 2s 1ms/step - loss: 56242180096.0000 - root_mean_squared_error: 237154.3438\n",
            "Epoch 87/100\n",
            "1700/1700 [==============================] - 3s 2ms/step - loss: 56240021504.0000 - root_mean_squared_error: 237149.7812\n",
            "Epoch 88/100\n",
            "1700/1700 [==============================] - 2s 1ms/step - loss: 56237907968.0000 - root_mean_squared_error: 237145.3438\n",
            "Epoch 89/100\n",
            "1700/1700 [==============================] - 2s 1ms/step - loss: 56235794432.0000 - root_mean_squared_error: 237140.8750\n",
            "Epoch 90/100\n",
            "1700/1700 [==============================] - 2s 1ms/step - loss: 56233668608.0000 - root_mean_squared_error: 237136.3906\n",
            "Epoch 91/100\n",
            "1700/1700 [==============================] - 2s 1ms/step - loss: 56231464960.0000 - root_mean_squared_error: 237131.7500\n",
            "Epoch 92/100\n",
            "1700/1700 [==============================] - 3s 2ms/step - loss: 56229376000.0000 - root_mean_squared_error: 237127.3438\n",
            "Epoch 93/100\n",
            "1700/1700 [==============================] - 2s 1ms/step - loss: 56227315712.0000 - root_mean_squared_error: 237123.0000\n",
            "Epoch 94/100\n",
            "1700/1700 [==============================] - 2s 1ms/step - loss: 56225091584.0000 - root_mean_squared_error: 237118.3125\n",
            "Epoch 95/100\n",
            "1700/1700 [==============================] - 2s 1ms/step - loss: 56223084544.0000 - root_mean_squared_error: 237114.0781\n",
            "Epoch 96/100\n",
            "1700/1700 [==============================] - 2s 1ms/step - loss: 56220962816.0000 - root_mean_squared_error: 237109.5938\n",
            "Epoch 97/100\n",
            "1700/1700 [==============================] - 3s 2ms/step - loss: 56218800128.0000 - root_mean_squared_error: 237105.0469\n",
            "Epoch 98/100\n",
            "1700/1700 [==============================] - 2s 1ms/step - loss: 56216694784.0000 - root_mean_squared_error: 237100.5938\n",
            "Epoch 99/100\n",
            "1700/1700 [==============================] - 2s 1ms/step - loss: 56214548480.0000 - root_mean_squared_error: 237096.0781\n",
            "Epoch 100/100\n",
            "1700/1700 [==============================] - 2s 1ms/step - loss: 56212422656.0000 - root_mean_squared_error: 237091.5938\n"
          ]
        },
        {
          "output_type": "stream",
          "name": "stderr",
          "text": [
            "/usr/local/lib/python3.8/dist-packages/numpy/core/shape_base.py:65: VisibleDeprecationWarning: Creating an ndarray from ragged nested sequences (which is a list-or-tuple of lists-or-tuples-or ndarrays with different lengths or shapes) is deprecated. If you meant to do this, you must specify 'dtype=object' when creating the ndarray.\n",
            "  ary = asanyarray(ary)\n"
          ]
        },
        {
          "output_type": "display_data",
          "data": {
            "text/plain": [
              "<Figure size 432x288 with 1 Axes>"
            ],
            "image/png": "[encoded data removed]"
          },
          "metadata": {
            "needs_background": "light"
          }
        },
        {
          "output_type": "display_data",
          "data": {
            "text/plain": [
              "<Figure size 432x288 with 1 Axes>"
            ],
            "image/png": "[encoded data removed]"
          },
          "metadata": {
            "needs_background": "light"
          }
        },
        {
          "output_type": "stream",
          "name": "stdout",
          "text": [
            "feature   label          predicted\n",
            "  value   value          value\n",
            "          in thousand$   in thousand$\n",
            "--------------------------------------\n",
            "    2  53000             419\n",
            "    2  92500             467\n",
            "    2  69100             444\n",
            "    2  62000             512\n",
            "    1  80000             408\n",
            "    2 295300             570\n",
            "    2 500001             508\n",
            "    2 342500             562\n",
            "    4 117600             833\n",
            "    2 128300             524\n",
            "    2 187300             566\n",
            "    3  79500             609\n",
            "    2 111900             569\n",
            "    2  95200             545\n",
            "    2  69300             509\n"
          ]
        }
      ]
    }
  ]
}